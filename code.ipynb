{
 "cells": [
  {
   "cell_type": "code",
   "execution_count": 1,
   "metadata": {},
   "outputs": [],
   "source": [
    "import os\n",
    "os.environ[\"LANGCHAIN_API_KEY\"] = \"ls__9dad2bff5afc4005bcfddb732f280b72\"\n",
    "os.environ[\"LANGCHAIN_TRACING_V2\"] = \"true\"\n",
    "os.environ[\"LANGCHAIN_ENDPOINT\"] = \"https://api.smith.langchain.com\"\n",
    "os.environ[\"LANGCHAIN_PROJECT\"] = \"3.conversational_chat_bot\""
   ]
  },
  {
   "cell_type": "code",
   "execution_count": 2,
   "metadata": {},
   "outputs": [
    {
     "name": "stderr",
     "output_type": "stream",
     "text": [
      "c:\\Users\\arasu\\Workspace\\Projects\\GenAI\\3.conversational_chat_bot\\venv\\lib\\site-packages\\tqdm\\auto.py:21: TqdmWarning: IProgress not found. Please update jupyter and ipywidgets. See https://ipywidgets.readthedocs.io/en/stable/user_install.html\n",
      "  from .autonotebook import tqdm as notebook_tqdm\n"
     ]
    }
   ],
   "source": [
    "from langchain.llms import CTransformers\n",
    "\n",
    "# OpenOrca is a massive library of text from books, articles, and websites.\n",
    "#Mistral 7B learned from this library to become smarter and more versatile.\n",
    "\n",
    "model_name = 'TheBloke/Mistral-7B-OpenOrca-GGUF'\n",
    "model_file = 'mistral-7b-openorca.Q4_K_M.gguf'\n",
    "model_type = 'mistral'\n",
    "\n",
    "llm = CTransformers(model=\"C:/Users/arasu/Workspace/Projects/GenAI/models/Mistral_quantized/mistral-7b-instruct-v0.2.Q4_K_M.gguf\",\n",
    "                    model_type=model_type)"
   ]
  },
  {
   "cell_type": "code",
   "execution_count": 3,
   "metadata": {},
   "outputs": [],
   "source": [
    "from langchain.embeddings.huggingface import HuggingFaceEmbeddings\n",
    "embeddings = HuggingFaceEmbeddings(model_name='C:/Users/arasu/Workspace/Projects/GenAI/embeddings/sentence-transformers_all-mpnet-base-v2/')"
   ]
  },
  {
   "cell_type": "code",
   "execution_count": 4,
   "metadata": {},
   "outputs": [],
   "source": [
    "from PyPDF2 import PdfReader\n",
    "from langchain.text_splitter import CharacterTextSplitter\n",
    "pdf = PdfReader(\"employment-agreement2018.pdf\")\n",
    "raw_text = \"\"\n",
    "for i, page in enumerate(pdf.pages):\n",
    "    content = page.extract_text()\n",
    "    if content:\n",
    "        raw_text += content\n",
    "# We need to split the text using Character Text Split such that it sshould not increse token size\n",
    "text_splitter = CharacterTextSplitter(\n",
    "    separator = \"\\n\",\n",
    "    chunk_size = 500,\n",
    "    chunk_overlap  = 100,\n",
    "    length_function = len,\n",
    ")\n",
    "texts = text_splitter.split_text(raw_text)        "
   ]
  },
  {
   "cell_type": "code",
   "execution_count": 6,
   "metadata": {},
   "outputs": [],
   "source": [
    "from langchain.vectorstores import Chroma\n",
    "db_path = \"vector_db\"\n",
    "vector_db = Chroma.from_texts(texts,embeddings,persist_directory=db_path)\n",
    "vector_db.persist()\n",
    "vector_db = None"
   ]
  },
  {
   "cell_type": "code",
   "execution_count": 9,
   "metadata": {},
   "outputs": [],
   "source": [
    "from langchain.vectorstores import Chroma\n",
    "db_path = \"vector_db\"\n",
    "vector_db = Chroma(persist_directory=db_path,embedding_function=embeddings)\n",
    "retriever = vector_db.as_retriever(search_type=\"similarity\",search_kwargs={\"k\":2})"
   ]
  },
  {
   "cell_type": "code",
   "execution_count": null,
   "metadata": {},
   "outputs": [],
   "source": [
    "docs = retriever.get_relevant_documents(\"what is my fixed monthly salary?\")\n",
    "docs"
   ]
  },
  {
   "cell_type": "code",
   "execution_count": 11,
   "metadata": {},
   "outputs": [],
   "source": [
    "from langchain.chains.conversation.memory import ConversationBufferWindowMemory\n",
    "from langchain.chains import ConversationalRetrievalChain\n",
    "# Instantiate an object of Conversation Buffer Memory\n",
    "chat_history = ConversationBufferWindowMemory(memory_key=\"chat_history\",\n",
    "\t\t\t\t\t\t\t\t\t\treturn_messages=True,k=5\n",
    "\n",
    "\t\t\t\t\t\t\t\t\t\t)\n",
    "conv_qa = ConversationalRetrievalChain.from_llm(llm=llm,  # USing ChatOpenAI as the LLM\n",
    "                                                retriever=retriever,  # # set the vectorstore to do similarity search\n",
    "                                                memory=chat_history,\n",
    "                                                 # Provide the buffer memory object to pass the conversation history to LLM.\n",
    "                                               )\n"
   ]
  },
  {
   "cell_type": "code",
   "execution_count": 7,
   "metadata": {},
   "outputs": [
    {
     "name": "stderr",
     "output_type": "stream",
     "text": [
      "c:\\Users\\arasu\\Workspace\\Projects\\GenAI\\3.conversational_chat_bot\\venv\\lib\\site-packages\\langchain_core\\_api\\deprecation.py:117: LangChainDeprecationWarning: The function `__call__` was deprecated in LangChain 0.1.0 and will be removed in 0.2.0. Use invoke instead.\n",
      "  warn_deprecated(\n"
     ]
    },
    {
     "data": {
      "text/plain": [
       "{'question': 'what is my fixed monthly salary?',\n",
       " 'chat_history': [],\n",
       " 'answer': ' Your fixed monthly salary is INR 3,854,167.'}"
      ]
     },
     "execution_count": 7,
     "metadata": {},
     "output_type": "execute_result"
    }
   ],
   "source": [
    "conv_qa({\"question\":\"what is my fixed monthly salary?\"})"
   ]
  },
  {
   "cell_type": "code",
   "execution_count": 12,
   "metadata": {},
   "outputs": [
    {
     "data": {
      "text/plain": [
       "{'question': 'am i eligible for a Superannuation?',\n",
       " 'chat_history': [],\n",
       " 'answer': ' Yes, based on the context provided, you are eligible for a Superannuation with a contribution of up to INR 8,333 per month.'}"
      ]
     },
     "execution_count": 12,
     "metadata": {},
     "output_type": "execute_result"
    }
   ],
   "source": [
    "conv_qa({\"question\":\"am i eligible for a Superannuation?\"})"
   ]
  },
  {
   "cell_type": "code",
   "execution_count": 13,
   "metadata": {},
   "outputs": [
    {
     "data": {
      "text/plain": [
       "{'question': 'what about the balance?',\n",
       " 'chat_history': [HumanMessage(content='what is my fixed monthly salary?'),\n",
       "  AIMessage(content=' Your fixed monthly salary is INR 3,854,167.'),\n",
       "  HumanMessage(content='am i eligible for a Superannuation?'),\n",
       "  AIMessage(content=\" Yes, based on the information provided in the text, an employee with a fixed monthly salary of INR 3,854,167 is eligible for a Superannuation contribution as per the company's policy, which is calculated at 15% of Basic Salary up to a maximum contribution of INR 8,333 per month.\")],\n",
       " 'answer': ' The remaining portion of your salary above INR 8,333 will be paid to you as part of your monthly salary.'}"
      ]
     },
     "execution_count": 13,
     "metadata": {},
     "output_type": "execute_result"
    }
   ],
   "source": [
    "conv_qa({\"question\":\"what about the balance?\"})"
   ]
  },
  {
   "cell_type": "code",
   "execution_count": 14,
   "metadata": {},
   "outputs": [
    {
     "data": {
      "text/plain": [
       "{'question': 'am i eligible for a group health insurance?',\n",
       " 'chat_history': [HumanMessage(content='what is my fixed monthly salary?'),\n",
       "  AIMessage(content=' Your fixed monthly salary is INR 3,854,167.'),\n",
       "  HumanMessage(content='am i eligible for a Superannuation?'),\n",
       "  AIMessage(content=\" Yes, based on the information provided in the text, an employee with a fixed monthly salary of INR 3,854,167 is eligible for a Superannuation contribution as per the company's policy, which is calculated at 15% of Basic Salary up to a maximum contribution of INR 8,333 per month.\"),\n",
       "  HumanMessage(content='what about the balance?'),\n",
       "  AIMessage(content=' The remaining portion of your salary above INR 8,333 will be paid to you as part of your monthly salary.')],\n",
       " 'answer': ' You are eligible to participate in the Group Health Insurance Scheme provided by Infosys. The default coverage includes you and your family (spouse and two children up to the age of 22 years) with a cover of INR 400,000 per annum. You can also choose to enhance the coverage with optional health insurance plans.'}"
      ]
     },
     "execution_count": 14,
     "metadata": {},
     "output_type": "execute_result"
    }
   ],
   "source": [
    "conv_qa({\"question\":\"am i eligible for a group health insurance?\"})"
   ]
  },
  {
   "cell_type": "code",
   "execution_count": 15,
   "metadata": {},
   "outputs": [
    {
     "data": {
      "text/plain": [
       "{'question': 'can you give more details about it?',\n",
       " 'chat_history': [HumanMessage(content='what is my fixed monthly salary?'),\n",
       "  AIMessage(content=' Your fixed monthly salary is INR 3,854,167.'),\n",
       "  HumanMessage(content='am i eligible for a Superannuation?'),\n",
       "  AIMessage(content=\" Yes, based on the information provided in the text, an employee with a fixed monthly salary of INR 3,854,167 is eligible for a Superannuation contribution as per the company's policy, which is calculated at 15% of Basic Salary up to a maximum contribution of INR 8,333 per month.\"),\n",
       "  HumanMessage(content='what about the balance?'),\n",
       "  AIMessage(content=' The remaining portion of your salary above INR 8,333 will be paid to you as part of your monthly salary.'),\n",
       "  HumanMessage(content='am i eligible for a group health insurance?'),\n",
       "  AIMessage(content=' You are eligible to participate in the Group Health Insurance Scheme provided by Infosys. The default coverage includes you and your family (spouse and two children up to the age of 22 years) with a cover of INR 400,000 per annum. You can also choose to enhance the coverage with optional health insurance plans.')],\n",
       " 'answer': ' The Group Health Insurance Scheme is a benefit that you are eligible to participate in as an employee of Infosys. By default, you and your family (spouse and two children under the age of 22) are covered with INR 400,000 per annum. You have the option to enhance coverage by participating in other optional plans (Gold and Platinum). The Standard Plan covers a wide range of medical expenses including hospitalization, surgery, maternity, and day-care procedures.'}"
      ]
     },
     "execution_count": 15,
     "metadata": {},
     "output_type": "execute_result"
    }
   ],
   "source": [
    "conv_qa({\"question\":\"can you give more details about it?\"})"
   ]
  }
 ],
 "metadata": {
  "kernelspec": {
   "display_name": "Python 3",
   "language": "python",
   "name": "python3"
  },
  "language_info": {
   "codemirror_mode": {
    "name": "ipython",
    "version": 3
   },
   "file_extension": ".py",
   "mimetype": "text/x-python",
   "name": "python",
   "nbconvert_exporter": "python",
   "pygments_lexer": "ipython3",
   "version": "3.9.0"
  }
 },
 "nbformat": 4,
 "nbformat_minor": 2
}
